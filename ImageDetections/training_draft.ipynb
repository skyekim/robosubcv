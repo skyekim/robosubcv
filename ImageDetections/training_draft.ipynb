{
 "cells": [
  {
   "cell_type": "code",
   "execution_count": 1,
   "metadata": {},
   "outputs": [
    {
     "name": "stdout",
     "output_type": "stream",
     "text": [
      "YOLOv8n summary: 225 layers, 3,157,200 parameters, 0 gradients, 8.9 GFLOPs\n",
      "(225, 3157200, 0, 8.8575488)\n",
      "Success Load\n"
     ]
    }
   ],
   "source": [
    "import os\n",
    "import yaml\n",
    "import torch\n",
    "from torch import cuda\n",
    "import cv2\n",
    "from pathlib import Path\n",
    "from ultralytics import YOLO\n",
    "from matplotlib import pyplot as plt\n",
    "\n",
    "model = YOLO('yolov8n.pt')\n",
    "print(model.info())\n",
    "\n",
    "print(\"Success Load\")\n"
   ]
  },
  {
   "cell_type": "code",
   "execution_count": 2,
   "metadata": {},
   "outputs": [
    {
     "name": "stdout",
     "output_type": "stream",
     "text": [
      "True\n",
      "11.8\n",
      "1\n"
     ]
    }
   ],
   "source": [
    "# Check for GPU Training\n",
    "\n",
    "print(cuda.is_available())\n",
    "print(torch.version.cuda)\n",
    "print(torch.cuda.device_count())"
   ]
  },
  {
   "cell_type": "code",
   "execution_count": 3,
   "metadata": {},
   "outputs": [
    {
     "name": "stdout",
     "output_type": "stream",
     "text": [
      "Ultralytics 8.3.75  Python-3.11.11 torch-2.6.0+cu118 CUDA:0 (NVIDIA GeForce RTX 3050 Ti Laptop GPU, 4096MiB)\n",
      "\u001b[34m\u001b[1mengine\\trainer: \u001b[0mtask=detect, mode=train, model=yolov8n.pt, data=data.yaml, epochs=10, time=None, patience=100, batch=-1, imgsz=640, save=True, save_period=-1, cache=False, device=0, workers=8, project=None, name=most_recent_training, exist_ok=True, pretrained=True, optimizer=auto, verbose=True, seed=0, deterministic=True, single_cls=False, rect=False, cos_lr=False, close_mosaic=10, resume=False, amp=True, fraction=1.0, profile=False, freeze=None, multi_scale=False, overlap_mask=True, mask_ratio=4, dropout=0.0, val=True, split=val, save_json=False, save_hybrid=False, conf=None, iou=0.7, max_det=300, half=False, dnn=False, plots=True, source=None, vid_stride=1, stream_buffer=False, visualize=False, augment=False, agnostic_nms=False, classes=None, retina_masks=False, embed=None, show=False, save_frames=False, save_txt=False, save_conf=False, save_crop=False, show_labels=True, show_conf=True, show_boxes=True, line_width=None, format=torchscript, keras=False, optimize=False, int8=False, dynamic=False, simplify=True, opset=None, workspace=None, nms=False, lr0=0.01, lrf=0.01, momentum=0.937, weight_decay=0.0005, warmup_epochs=3.0, warmup_momentum=0.8, warmup_bias_lr=0.1, box=7.5, cls=0.5, dfl=1.5, pose=12.0, kobj=1.0, nbs=64, hsv_h=0.015, hsv_s=0.7, hsv_v=0.4, degrees=0.0, translate=0.1, scale=0.5, shear=0.0, perspective=0.0, flipud=0.0, fliplr=0.5, bgr=0.0, mosaic=1.0, mixup=0.0, copy_paste=0.0, copy_paste_mode=flip, auto_augment=randaugment, erasing=0.4, crop_fraction=1.0, cfg=None, tracker=botsort.yaml, save_dir=runs\\detect\\most_recent_training\n",
      "Overriding model.yaml nc=80 with nc=16\n",
      "\n",
      "                   from  n    params  module                                       arguments                     \n",
      "  0                  -1  1       464  ultralytics.nn.modules.conv.Conv             [3, 16, 3, 2]                 \n",
      "  1                  -1  1      4672  ultralytics.nn.modules.conv.Conv             [16, 32, 3, 2]                \n",
      "  2                  -1  1      7360  ultralytics.nn.modules.block.C2f             [32, 32, 1, True]             \n",
      "  3                  -1  1     18560  ultralytics.nn.modules.conv.Conv             [32, 64, 3, 2]                \n",
      "  4                  -1  2     49664  ultralytics.nn.modules.block.C2f             [64, 64, 2, True]             \n",
      "  5                  -1  1     73984  ultralytics.nn.modules.conv.Conv             [64, 128, 3, 2]               \n",
      "  6                  -1  2    197632  ultralytics.nn.modules.block.C2f             [128, 128, 2, True]           \n",
      "  7                  -1  1    295424  ultralytics.nn.modules.conv.Conv             [128, 256, 3, 2]              \n",
      "  8                  -1  1    460288  ultralytics.nn.modules.block.C2f             [256, 256, 1, True]           \n",
      "  9                  -1  1    164608  ultralytics.nn.modules.block.SPPF            [256, 256, 5]                 \n",
      " 10                  -1  1         0  torch.nn.modules.upsampling.Upsample         [None, 2, 'nearest']          \n",
      " 11             [-1, 6]  1         0  ultralytics.nn.modules.conv.Concat           [1]                           \n",
      " 12                  -1  1    148224  ultralytics.nn.modules.block.C2f             [384, 128, 1]                 \n",
      " 13                  -1  1         0  torch.nn.modules.upsampling.Upsample         [None, 2, 'nearest']          \n",
      " 14             [-1, 4]  1         0  ultralytics.nn.modules.conv.Concat           [1]                           \n",
      " 15                  -1  1     37248  ultralytics.nn.modules.block.C2f             [192, 64, 1]                  \n",
      " 16                  -1  1     36992  ultralytics.nn.modules.conv.Conv             [64, 64, 3, 2]                \n",
      " 17            [-1, 12]  1         0  ultralytics.nn.modules.conv.Concat           [1]                           \n",
      " 18                  -1  1    123648  ultralytics.nn.modules.block.C2f             [192, 128, 1]                 \n",
      " 19                  -1  1    147712  ultralytics.nn.modules.conv.Conv             [128, 128, 3, 2]              \n",
      " 20             [-1, 9]  1         0  ultralytics.nn.modules.conv.Concat           [1]                           \n",
      " 21                  -1  1    493056  ultralytics.nn.modules.block.C2f             [384, 256, 1]                 \n",
      " 22        [15, 18, 21]  1    754432  ultralytics.nn.modules.head.Detect           [16, [64, 128, 256]]          \n",
      "Model summary: 225 layers, 3,013,968 parameters, 3,013,952 gradients, 8.2 GFLOPs\n",
      "\n",
      "Transferred 319/355 items from pretrained weights\n",
      "Freezing layer 'model.22.dfl.conv.weight'\n",
      "\u001b[34m\u001b[1mAMP: \u001b[0mrunning Automatic Mixed Precision (AMP) checks...\n",
      "\u001b[34m\u001b[1mAMP: \u001b[0mchecks passed \n"
     ]
    },
    {
     "name": "stderr",
     "output_type": "stream",
     "text": [
      "\u001b[34m\u001b[1mtrain: \u001b[0mScanning C:\\Users\\david\\Desktop\\RoboSub\\datasets\\train\\labels.cache... 348 images, 0 backgrounds, 0 corrupt: 100%|██████████| 348/348 [00:00<?, ?it/s]"
     ]
    },
    {
     "name": "stdout",
     "output_type": "stream",
     "text": [
      "\u001b[34m\u001b[1mAutoBatch: \u001b[0mComputing optimal batch size for imgsz=640 at 60.0% CUDA memory utilization.\n",
      "\u001b[34m\u001b[1mAutoBatch: \u001b[0mCUDA:0 (NVIDIA GeForce RTX 3050 Ti Laptop GPU) 4.00G total, 0.10G reserved, 0.06G allocated, 3.84G free\n",
      "      Params      GFLOPs  GPU_mem (GB)  forward (ms) backward (ms)                   input                  output\n"
     ]
    },
    {
     "name": "stderr",
     "output_type": "stream",
     "text": [
      "\n"
     ]
    },
    {
     "name": "stdout",
     "output_type": "stream",
     "text": [
      "     3013968        8.21         0.382            58         215.3        (1, 3, 640, 640)                    list\n",
      "     3013968       16.42         0.531           104         106.1        (2, 3, 640, 640)                    list\n",
      "     3013968       32.84         0.858            19            93        (4, 3, 640, 640)                    list\n",
      "     3013968       65.68         1.411            34         91.02        (8, 3, 640, 640)                    list\n",
      "     3013968       131.4         2.475            65           103       (16, 3, 640, 640)                    list\n",
      "\u001b[34m\u001b[1mAutoBatch: \u001b[0mUsing batch-size 16 for CUDA:0 2.49G/4.00G (62%) \n"
     ]
    },
    {
     "name": "stderr",
     "output_type": "stream",
     "text": [
      "\u001b[34m\u001b[1mtrain: \u001b[0mScanning C:\\Users\\david\\Desktop\\RoboSub\\datasets\\train\\labels.cache... 348 images, 0 backgrounds, 0 corrupt: 100%|██████████| 348/348 [00:00<?, ?it/s]\n",
      "\u001b[34m\u001b[1mval: \u001b[0mScanning C:\\Users\\david\\Desktop\\RoboSub\\datasets\\valid\\labels.cache... 25 images, 0 backgrounds, 0 corrupt: 100%|██████████| 25/25 [00:00<?, ?it/s]\n"
     ]
    },
    {
     "name": "stdout",
     "output_type": "stream",
     "text": [
      "Plotting labels to runs\\detect\\most_recent_training\\labels.jpg... \n",
      "\u001b[34m\u001b[1moptimizer:\u001b[0m 'optimizer=auto' found, ignoring 'lr0=0.01' and 'momentum=0.937' and determining best 'optimizer', 'lr0' and 'momentum' automatically... \n",
      "\u001b[34m\u001b[1moptimizer:\u001b[0m AdamW(lr=0.0005, momentum=0.9) with parameter groups 57 weight(decay=0.0), 64 weight(decay=0.0005), 63 bias(decay=0.0)\n",
      "Image sizes 640 train, 640 val\n",
      "Using 8 dataloader workers\n",
      "Logging results to \u001b[1mruns\\detect\\most_recent_training\u001b[0m\n",
      "Starting training for 10 epochs...\n",
      "Closing dataloader mosaic\n",
      "\n",
      "      Epoch    GPU_mem   box_loss   cls_loss   dfl_loss  Instances       Size\n"
     ]
    },
    {
     "name": "stderr",
     "output_type": "stream",
     "text": [
      "       1/10       2.2G      2.206      6.108      2.389         12        640: 100%|██████████| 22/22 [00:04<00:00,  4.57it/s]\n",
      "                 Class     Images  Instances      Box(P          R      mAP50  mAP50-95): 100%|██████████| 1/1 [00:00<00:00,  6.45it/s]"
     ]
    },
    {
     "name": "stdout",
     "output_type": "stream",
     "text": [
      "                   all         25         25          0          0          0          0\n"
     ]
    },
    {
     "name": "stderr",
     "output_type": "stream",
     "text": [
      "\n"
     ]
    },
    {
     "name": "stdout",
     "output_type": "stream",
     "text": [
      "\n",
      "      Epoch    GPU_mem   box_loss   cls_loss   dfl_loss  Instances       Size\n"
     ]
    },
    {
     "name": "stderr",
     "output_type": "stream",
     "text": [
      "       2/10      2.18G      1.422      5.321       1.68         12        640: 100%|██████████| 22/22 [00:03<00:00,  5.75it/s]\n",
      "                 Class     Images  Instances      Box(P          R      mAP50  mAP50-95): 100%|██████████| 1/1 [00:00<00:00,  5.85it/s]"
     ]
    },
    {
     "name": "stdout",
     "output_type": "stream",
     "text": [
      "                   all         25         25     0.0495      0.306      0.171      0.129\n"
     ]
    },
    {
     "name": "stderr",
     "output_type": "stream",
     "text": [
      "\n"
     ]
    },
    {
     "name": "stdout",
     "output_type": "stream",
     "text": [
      "\n",
      "      Epoch    GPU_mem   box_loss   cls_loss   dfl_loss  Instances       Size\n"
     ]
    },
    {
     "name": "stderr",
     "output_type": "stream",
     "text": [
      "       3/10      2.18G      1.229      4.323      1.349         12        640: 100%|██████████| 22/22 [00:03<00:00,  5.80it/s]\n",
      "                 Class     Images  Instances      Box(P          R      mAP50  mAP50-95): 100%|██████████| 1/1 [00:00<00:00,  5.49it/s]"
     ]
    },
    {
     "name": "stdout",
     "output_type": "stream",
     "text": [
      "                   all         25         25      0.104      0.897      0.529      0.377\n"
     ]
    },
    {
     "name": "stderr",
     "output_type": "stream",
     "text": [
      "\n"
     ]
    },
    {
     "name": "stdout",
     "output_type": "stream",
     "text": [
      "\n",
      "      Epoch    GPU_mem   box_loss   cls_loss   dfl_loss  Instances       Size\n"
     ]
    },
    {
     "name": "stderr",
     "output_type": "stream",
     "text": [
      "       4/10      2.25G       1.22      3.717      1.319         12        640: 100%|██████████| 22/22 [00:03<00:00,  5.87it/s]\n",
      "                 Class     Images  Instances      Box(P          R      mAP50  mAP50-95): 100%|██████████| 1/1 [00:00<00:00,  5.88it/s]"
     ]
    },
    {
     "name": "stdout",
     "output_type": "stream",
     "text": [
      "                   all         25         25      0.994      0.167      0.633      0.502\n"
     ]
    },
    {
     "name": "stderr",
     "output_type": "stream",
     "text": [
      "\n"
     ]
    },
    {
     "name": "stdout",
     "output_type": "stream",
     "text": [
      "\n",
      "      Epoch    GPU_mem   box_loss   cls_loss   dfl_loss  Instances       Size\n"
     ]
    },
    {
     "name": "stderr",
     "output_type": "stream",
     "text": [
      "       5/10       2.2G      1.162      3.302      1.268         12        640: 100%|██████████| 22/22 [00:03<00:00,  5.89it/s]\n",
      "                 Class     Images  Instances      Box(P          R      mAP50  mAP50-95): 100%|██████████| 1/1 [00:00<00:00,  5.59it/s]"
     ]
    },
    {
     "name": "stdout",
     "output_type": "stream",
     "text": [
      "                   all         25         25      0.957      0.281      0.739      0.557\n"
     ]
    },
    {
     "name": "stderr",
     "output_type": "stream",
     "text": [
      "\n"
     ]
    },
    {
     "name": "stdout",
     "output_type": "stream",
     "text": [
      "\n",
      "      Epoch    GPU_mem   box_loss   cls_loss   dfl_loss  Instances       Size\n"
     ]
    },
    {
     "name": "stderr",
     "output_type": "stream",
     "text": [
      "       6/10       2.2G      1.119      3.038      1.216         12        640: 100%|██████████| 22/22 [00:03<00:00,  5.89it/s]\n",
      "                 Class     Images  Instances      Box(P          R      mAP50  mAP50-95): 100%|██████████| 1/1 [00:00<00:00,  6.06it/s]"
     ]
    },
    {
     "name": "stdout",
     "output_type": "stream",
     "text": [
      "                   all         25         25       0.76      0.447      0.808      0.655\n"
     ]
    },
    {
     "name": "stderr",
     "output_type": "stream",
     "text": [
      "\n"
     ]
    },
    {
     "name": "stdout",
     "output_type": "stream",
     "text": [
      "\n",
      "      Epoch    GPU_mem   box_loss   cls_loss   dfl_loss  Instances       Size\n"
     ]
    },
    {
     "name": "stderr",
     "output_type": "stream",
     "text": [
      "       7/10       2.2G      1.062      2.699      1.197         12        640: 100%|██████████| 22/22 [00:03<00:00,  5.92it/s]\n",
      "                 Class     Images  Instances      Box(P          R      mAP50  mAP50-95): 100%|██████████| 1/1 [00:00<00:00,  6.02it/s]"
     ]
    },
    {
     "name": "stdout",
     "output_type": "stream",
     "text": [
      "                   all         25         25      0.688      0.679      0.804      0.624\n"
     ]
    },
    {
     "name": "stderr",
     "output_type": "stream",
     "text": [
      "\n"
     ]
    },
    {
     "name": "stdout",
     "output_type": "stream",
     "text": [
      "\n",
      "      Epoch    GPU_mem   box_loss   cls_loss   dfl_loss  Instances       Size\n"
     ]
    },
    {
     "name": "stderr",
     "output_type": "stream",
     "text": [
      "       8/10       2.2G      1.059      2.576      1.178         12        640: 100%|██████████| 22/22 [00:03<00:00,  5.91it/s]\n",
      "                 Class     Images  Instances      Box(P          R      mAP50  mAP50-95): 100%|██████████| 1/1 [00:00<00:00,  5.99it/s]"
     ]
    },
    {
     "name": "stdout",
     "output_type": "stream",
     "text": [
      "                   all         25         25      0.769      0.739      0.832      0.652\n"
     ]
    },
    {
     "name": "stderr",
     "output_type": "stream",
     "text": [
      "\n"
     ]
    },
    {
     "name": "stdout",
     "output_type": "stream",
     "text": [
      "\n",
      "      Epoch    GPU_mem   box_loss   cls_loss   dfl_loss  Instances       Size\n"
     ]
    },
    {
     "name": "stderr",
     "output_type": "stream",
     "text": [
      "       9/10       2.2G      1.006      2.508      1.142         12        640: 100%|██████████| 22/22 [00:03<00:00,  5.93it/s]\n",
      "                 Class     Images  Instances      Box(P          R      mAP50  mAP50-95): 100%|██████████| 1/1 [00:00<00:00,  6.02it/s]"
     ]
    },
    {
     "name": "stdout",
     "output_type": "stream",
     "text": [
      "                   all         25         25      0.682      0.845      0.852      0.682\n"
     ]
    },
    {
     "name": "stderr",
     "output_type": "stream",
     "text": [
      "\n"
     ]
    },
    {
     "name": "stdout",
     "output_type": "stream",
     "text": [
      "\n",
      "      Epoch    GPU_mem   box_loss   cls_loss   dfl_loss  Instances       Size\n"
     ]
    },
    {
     "name": "stderr",
     "output_type": "stream",
     "text": [
      "      10/10       2.2G     0.9534      2.283      1.124         12        640: 100%|██████████| 22/22 [00:03<00:00,  5.91it/s]\n",
      "                 Class     Images  Instances      Box(P          R      mAP50  mAP50-95): 100%|██████████| 1/1 [00:00<00:00,  5.85it/s]"
     ]
    },
    {
     "name": "stdout",
     "output_type": "stream",
     "text": [
      "                   all         25         25      0.747      0.837      0.904      0.723\n"
     ]
    },
    {
     "name": "stderr",
     "output_type": "stream",
     "text": [
      "\n"
     ]
    },
    {
     "name": "stdout",
     "output_type": "stream",
     "text": [
      "\n",
      "10 epochs completed in 0.024 hours.\n",
      "Optimizer stripped from runs\\detect\\most_recent_training\\weights\\last.pt, 6.3MB\n",
      "Optimizer stripped from runs\\detect\\most_recent_training\\weights\\best.pt, 6.3MB\n",
      "\n",
      "Validating runs\\detect\\most_recent_training\\weights\\best.pt...\n",
      "Ultralytics 8.3.75  Python-3.11.11 torch-2.6.0+cu118 CUDA:0 (NVIDIA GeForce RTX 3050 Ti Laptop GPU, 4096MiB)\n",
      "Model summary (fused): 168 layers, 3,008,768 parameters, 0 gradients, 8.1 GFLOPs\n"
     ]
    },
    {
     "name": "stderr",
     "output_type": "stream",
     "text": [
      "                 Class     Images  Instances      Box(P          R      mAP50  mAP50-95): 100%|██████████| 1/1 [00:00<00:00,  5.43it/s]\n"
     ]
    },
    {
     "name": "stdout",
     "output_type": "stream",
     "text": [
      "                   all         25         25      0.747      0.837      0.904      0.723\n",
      "            abydos-bin          5          5      0.903          1      0.995      0.748\n",
      "               abydos6          2          2      0.192          1      0.828      0.679\n",
      "                 earth          6          6      0.996        0.5      0.788      0.681\n",
      "             earth-bin          2          2       0.71          1      0.995      0.821\n",
      "                earth4          7          7      0.798      0.857      0.902       0.67\n",
      "                earth5          3          3      0.882      0.667      0.913      0.739\n",
      "Speed: 0.5ms preprocess, 2.7ms inference, 0.0ms loss, 0.9ms postprocess per image\n",
      "Results saved to \u001b[1mruns\\detect\\most_recent_training\u001b[0m\n",
      "Success Train\n"
     ]
    }
   ],
   "source": [
    "# Training\n",
    "dataset = \"data.yaml\"\n",
    "batch_size = -1 #16 Default\n",
    "epoches = 10\n",
    "imgsz = 640 #640x640 Training Imgs\n",
    "name = \"most_recent_training\"\n",
    "override = True # Set to False if we want to continue creating new training folders\n",
    "\n",
    "results = model.train(data=dataset, batch=batch_size, epochs=epoches, imgsz=imgsz, name=name, exist_ok=override, device=0) # Do [0, 1, 2, ..]\n",
    "print(\"Success Train\")\n"
   ]
  },
  {
   "cell_type": "code",
   "execution_count": 4,
   "metadata": {},
   "outputs": [
    {
     "name": "stdout",
     "output_type": "stream",
     "text": [
      "Model summary: 225 layers, 3,013,968 parameters, 0 gradients, 8.2 GFLOPs\n",
      "(225, 3013968, 0, 8.2102784)\n",
      "Ultralytics 8.3.75  Python-3.11.11 torch-2.6.0+cu118 CUDA:0 (NVIDIA GeForce RTX 3050 Ti Laptop GPU, 4096MiB)\n",
      "Model summary (fused): 168 layers, 3,008,768 parameters, 0 gradients, 8.1 GFLOPs\n"
     ]
    },
    {
     "name": "stderr",
     "output_type": "stream",
     "text": [
      "\u001b[34m\u001b[1mval: \u001b[0mScanning C:\\Users\\david\\Desktop\\RoboSub\\datasets\\valid\\labels.cache... 25 images, 0 backgrounds, 0 corrupt: 100%|██████████| 25/25 [00:00<?, ?it/s]\n",
      "                 Class     Images  Instances      Box(P          R      mAP50  mAP50-95): 100%|██████████| 2/2 [00:06<00:00,  3.16s/it]\n"
     ]
    },
    {
     "name": "stdout",
     "output_type": "stream",
     "text": [
      "                   all         25         25      0.744      0.837      0.904      0.723\n",
      "            abydos-bin          5          5        0.9          1      0.995      0.748\n",
      "               abydos6          2          2      0.193          1      0.828      0.679\n",
      "                 earth          6          6      0.984        0.5      0.788      0.681\n",
      "             earth-bin          2          2       0.71          1      0.995      0.821\n",
      "                earth4          7          7      0.797      0.857      0.902       0.67\n",
      "                earth5          3          3       0.88      0.667      0.913      0.739\n",
      "Speed: 6.6ms preprocess, 20.1ms inference, 0.0ms loss, 1.6ms postprocess per image\n",
      "Results saved to \u001b[1mruns\\detect\\most_recent_validation3\u001b[0m\n"
     ]
    }
   ],
   "source": [
    "# Validation\n",
    "best_weight = \"runs/detect/most_recent_training/weights/best.pt\"\n",
    "conf = 0.4\n",
    "name = \"most_recent_validation\"\n",
    "eval_model = YOLO(best_weight)\n",
    "print(eval_model.info())\n",
    "eval = eval_model.val(data=dataset, imgsz=imgsz, plots=True, name=name, device=0)\n"
   ]
  },
  {
   "cell_type": "code",
   "execution_count": 5,
   "metadata": {},
   "outputs": [
    {
     "name": "stdout",
     "output_type": "stream",
     "text": [
      "\n",
      "image 1/25 c:\\Users\\david\\Desktop\\RoboSub\\datasets\\test\\images\\IMG_4595_jpeg.rf.c842462625f6a7e71ebd46ae8752dd48.jpg: 640x640 (no detections), 53.6ms\n",
      "image 2/25 c:\\Users\\david\\Desktop\\RoboSub\\datasets\\test\\images\\IMG_4596_jpeg.rf.e63079c8cf5c04ad29383f94d4949fd6.jpg: 640x640 (no detections), 50.2ms\n",
      "image 3/25 c:\\Users\\david\\Desktop\\RoboSub\\datasets\\test\\images\\IMG_4610_jpeg.rf.63158a49e94dd8c01f21a69ef6841052.jpg: 640x640 (no detections), 50.3ms\n",
      "image 4/25 c:\\Users\\david\\Desktop\\RoboSub\\datasets\\test\\images\\IMG_4641_jpeg.rf.84224e69107d5700f4aca3f3c1eb9d4b.jpg: 640x640 (no detections), 50.1ms\n",
      "image 5/25 c:\\Users\\david\\Desktop\\RoboSub\\datasets\\test\\images\\IMG_4642_jpeg.rf.caea901f661d21cca83999d051e25d46.jpg: 640x640 1 earth1, 30.6ms\n",
      "image 6/25 c:\\Users\\david\\Desktop\\RoboSub\\datasets\\test\\images\\IMG_4644_jpeg.rf.7d5d2da85170e6d1c2df4c47a91fa3c1.jpg: 640x640 1 earth6, 6.2ms\n",
      "image 7/25 c:\\Users\\david\\Desktop\\RoboSub\\datasets\\test\\images\\IMG_4652_jpeg.rf.8083f666689a37de6d44c1238820ada3.jpg: 640x640 (no detections), 6.3ms\n",
      "image 8/25 c:\\Users\\david\\Desktop\\RoboSub\\datasets\\test\\images\\IMG_4660_jpeg.rf.9fda892de405f3dd038f7252a6202ae6.jpg: 640x640 (no detections), 7.2ms\n",
      "image 9/25 c:\\Users\\david\\Desktop\\RoboSub\\datasets\\test\\images\\IMG_4707_jpeg.rf.ddecf94057a8619d81ef023e28ffc9d4.jpg: 640x640 (no detections), 6.4ms\n",
      "image 10/25 c:\\Users\\david\\Desktop\\RoboSub\\datasets\\test\\images\\IMG_4708_jpeg.rf.c3502b3dc1d3dab0b1e18b6492f68f9c.jpg: 640x640 (no detections), 6.5ms\n",
      "image 11/25 c:\\Users\\david\\Desktop\\RoboSub\\datasets\\test\\images\\IMG_4710_jpeg.rf.3ec1ffbbeeafece598b4ef7041c701e4.jpg: 640x640 1 abydos1, 6.7ms\n",
      "image 12/25 c:\\Users\\david\\Desktop\\RoboSub\\datasets\\test\\images\\IMG_4712_jpeg.rf.9d4b51883de91f6dcb7bb440c3dcd2d8.jpg: 640x640 1 abydos1, 6.3ms\n",
      "image 13/25 c:\\Users\\david\\Desktop\\RoboSub\\datasets\\test\\images\\IMG_4714_jpeg.rf.3b41c53276444c13f14db1ba0d6e4866.jpg: 640x640 1 abydos1, 1 abydos2, 6.6ms\n",
      "image 14/25 c:\\Users\\david\\Desktop\\RoboSub\\datasets\\test\\images\\IMG_4721_jpeg.rf.48def46ba0fcba1c8ba11c5aae990a71.jpg: 640x640 (no detections), 7.8ms\n",
      "image 15/25 c:\\Users\\david\\Desktop\\RoboSub\\datasets\\test\\images\\IMG_4753_jpeg.rf.3854528ed6a6cabcc0109dd555785d7d.jpg: 640x640 1 earth-bin, 6.6ms\n",
      "image 16/25 c:\\Users\\david\\Desktop\\RoboSub\\datasets\\test\\images\\IMG_4760_jpeg.rf.701c7418683425596ce3f47e2d159064.jpg: 640x640 (no detections), 7.0ms\n",
      "image 17/25 c:\\Users\\david\\Desktop\\RoboSub\\datasets\\test\\images\\IMG_4766_jpeg.rf.a39a1d83ddd54e501f5ae5c1638555cc.jpg: 640x640 1 abydos1, 1 earth-bin, 6.8ms\n",
      "image 18/25 c:\\Users\\david\\Desktop\\RoboSub\\datasets\\test\\images\\IMG_4814_jpeg.rf.56f9ba87adc3439a753f00e2ff016538.jpg: 640x640 (no detections), 7.9ms\n",
      "image 19/25 c:\\Users\\david\\Desktop\\RoboSub\\datasets\\test\\images\\IMG_4879_jpeg.rf.914fc448db8f6452d2d614a83de38f56.jpg: 640x640 1 abydos-bin, 7.1ms\n",
      "image 20/25 c:\\Users\\david\\Desktop\\RoboSub\\datasets\\test\\images\\IMG_4883_jpeg.rf.a7fb4587a054781e565369d89590a4ec.jpg: 640x640 1 abydos-bin, 6.7ms\n",
      "image 21/25 c:\\Users\\david\\Desktop\\RoboSub\\datasets\\test\\images\\IMG_4894_jpeg.rf.8389608c7597e1a3c254f19a9b97a1d0.jpg: 640x640 1 abydos-bin, 6.6ms\n",
      "image 22/25 c:\\Users\\david\\Desktop\\RoboSub\\datasets\\test\\images\\IMG_5395_JPG.rf.b535ecba7488307f7f51472cdbd66fb4.jpg: 640x640 (no detections), 6.8ms\n",
      "image 23/25 c:\\Users\\david\\Desktop\\RoboSub\\datasets\\test\\images\\IMG_5487_JPG.rf.bcc27913a16d1cbabd669f9ab6490f24.jpg: 640x640 1 abydos3, 6.3ms\n",
      "image 24/25 c:\\Users\\david\\Desktop\\RoboSub\\datasets\\test\\images\\IMG_5519_JPG.rf.0d49655dead09de3f4887d06affba3aa.jpg: 640x640 1 abydos5, 7.7ms\n",
      "image 25/25 c:\\Users\\david\\Desktop\\RoboSub\\datasets\\test\\images\\IMG_5533_JPG.rf.f07b08d2d80898a18ab95e8dcaf8e918.jpg: 640x640 1 earth1, 6.6ms\n",
      "Speed: 3.1ms preprocess, 14.8ms inference, 1.3ms postprocess per image at shape (1, 3, 640, 640)\n",
      "Results saved to \u001b[1mruns\\detect\\most_recent_predictions\u001b[0m\n"
     ]
    }
   ],
   "source": [
    "source = \"datasets/test/images\"\n",
    "name = \"most_recent_predictions\"\n",
    "testpred = eval_model.predict(source=source, imgsz=imgsz, conf=0.25, name=name, exist_ok=override, save=True, show_conf=True, device=0)"
   ]
  },
  {
   "cell_type": "code",
   "execution_count": 10,
   "metadata": {},
   "outputs": [
    {
     "data": {
      "text/plain": [
       "<Figure size 1000x1000 with 1 Axes>"
      ]
     },
     "metadata": {},
     "output_type": "display_data"
    }
   ],
   "source": [
    "# Visualize predictions\n",
    "for result in testpred:\n",
    "    # Load image\n",
    "    img_path = result.path\n",
    "    img = cv2.imread(img_path)\n",
    "    img = cv2.cvtColor(img, cv2.COLOR_BGR2RGB)\n",
    "\n",
    "    # Draw bounding boxes and labels\n",
    "    for box in result.boxes:\n",
    "        x1, y1, x2, y2 = map(int, box.xyxy[0])  # Bounding box coordinates\n",
    "        confidence = box.conf[0]  # Confidence score\n",
    "        class_id = int(box.cls[0])  # Class ID\n",
    "        label = f\"{eval_model.names[class_id]} {confidence:.2f}\"\n",
    "\n",
    "        # Draw rectangle and text\n",
    "        cv2.rectangle(img, (x1, y1), (x2, y2), (0, 255, 0), 2)\n",
    "        cv2.putText(img, label, (x1, y1 - 10), cv2.FONT_HERSHEY_SIMPLEX, 0.5, (0, 255, 0), 2)\n",
    "\n",
    "    # Plot the image with predictions\n",
    "    plt.figure(figsize=(10, 10))\n",
    "    plt.imshow(img)\n",
    "    plt.axis('off')\n",
    "    plt.show()"
   ]
  }
 ],
 "metadata": {
  "kernelspec": {
   "display_name": "Python 3",
   "language": "python",
   "name": "python3"
  },
  "language_info": {
   "codemirror_mode": {
    "name": "ipython",
    "version": 3
   },
   "file_extension": ".py",
   "mimetype": "text/x-python",
   "name": "python",
   "nbconvert_exporter": "python",
   "pygments_lexer": "ipython3",
   "version": "3.11.11"
  }
 },
 "nbformat": 4,
 "nbformat_minor": 2
}
